{
 "cells": [
  {
   "cell_type": "markdown",
   "metadata": {},
   "source": [
    "# Ensemble Learning\n",
    "\n",
    "## Initial Imports"
   ]
  },
  {
   "cell_type": "code",
   "execution_count": 2,
   "metadata": {},
   "outputs": [],
   "source": [
    "import warnings\n",
    "warnings.filterwarnings('ignore')"
   ]
  },
  {
   "cell_type": "code",
   "execution_count": 3,
   "metadata": {},
   "outputs": [],
   "source": [
    "import numpy as np\n",
    "import pandas as pd\n",
    "from pathlib import Path\n",
    "from collections import Counter"
   ]
  },
  {
   "cell_type": "code",
   "execution_count": 4,
   "metadata": {},
   "outputs": [],
   "source": [
    "from sklearn.metrics import balanced_accuracy_score\n",
    "from sklearn import tree\n",
    "from sklearn.metrics import confusion_matrix\n",
    "from imblearn.metrics import classification_report_imbalanced\n",
    "from imblearn.over_sampling import RandomOverSampler\n",
    "from imblearn.ensemble import BalancedRandomForestClassifier\n",
    "from imblearn.ensemble import EasyEnsembleClassifier\n",
    "from imblearn.metrics import classification_report_imbalanced\n",
    "from sklearn.ensemble import RandomForestClassifier\n",
    "from sklearn.preprocessing import StandardScaler, LabelEncoder\n",
    "from sklearn.model_selection import train_test_split\n",
    "from sklearn.metrics import confusion_matrix, accuracy_score, classification_report"
   ]
  },
  {
   "cell_type": "markdown",
   "metadata": {},
   "source": [
    "## Read the CSV and Perform Basic Data Cleaning"
   ]
  },
  {
   "cell_type": "code",
   "execution_count": 5,
   "metadata": {},
   "outputs": [
    {
     "data": {
      "text/html": [
       "<div>\n",
       "<style scoped>\n",
       "    .dataframe tbody tr th:only-of-type {\n",
       "        vertical-align: middle;\n",
       "    }\n",
       "\n",
       "    .dataframe tbody tr th {\n",
       "        vertical-align: top;\n",
       "    }\n",
       "\n",
       "    .dataframe thead th {\n",
       "        text-align: right;\n",
       "    }\n",
       "</style>\n",
       "<table border=\"1\" class=\"dataframe\">\n",
       "  <thead>\n",
       "    <tr style=\"text-align: right;\">\n",
       "      <th></th>\n",
       "      <th>loan_amnt</th>\n",
       "      <th>int_rate</th>\n",
       "      <th>installment</th>\n",
       "      <th>home_ownership</th>\n",
       "      <th>annual_inc</th>\n",
       "      <th>verification_status</th>\n",
       "      <th>issue_d</th>\n",
       "      <th>loan_status</th>\n",
       "      <th>pymnt_plan</th>\n",
       "      <th>dti</th>\n",
       "      <th>...</th>\n",
       "      <th>pct_tl_nvr_dlq</th>\n",
       "      <th>percent_bc_gt_75</th>\n",
       "      <th>pub_rec_bankruptcies</th>\n",
       "      <th>tax_liens</th>\n",
       "      <th>tot_hi_cred_lim</th>\n",
       "      <th>total_bal_ex_mort</th>\n",
       "      <th>total_bc_limit</th>\n",
       "      <th>total_il_high_credit_limit</th>\n",
       "      <th>hardship_flag</th>\n",
       "      <th>debt_settlement_flag</th>\n",
       "    </tr>\n",
       "  </thead>\n",
       "  <tbody>\n",
       "    <tr>\n",
       "      <th>0</th>\n",
       "      <td>10500.0</td>\n",
       "      <td>0.1719</td>\n",
       "      <td>375.35</td>\n",
       "      <td>RENT</td>\n",
       "      <td>66000.0</td>\n",
       "      <td>Source Verified</td>\n",
       "      <td>Mar-2019</td>\n",
       "      <td>low_risk</td>\n",
       "      <td>n</td>\n",
       "      <td>27.24</td>\n",
       "      <td>...</td>\n",
       "      <td>85.7</td>\n",
       "      <td>100.0</td>\n",
       "      <td>0.0</td>\n",
       "      <td>0.0</td>\n",
       "      <td>65687.0</td>\n",
       "      <td>38199.0</td>\n",
       "      <td>2000.0</td>\n",
       "      <td>61987.0</td>\n",
       "      <td>N</td>\n",
       "      <td>N</td>\n",
       "    </tr>\n",
       "    <tr>\n",
       "      <th>1</th>\n",
       "      <td>25000.0</td>\n",
       "      <td>0.2000</td>\n",
       "      <td>929.09</td>\n",
       "      <td>MORTGAGE</td>\n",
       "      <td>105000.0</td>\n",
       "      <td>Verified</td>\n",
       "      <td>Mar-2019</td>\n",
       "      <td>low_risk</td>\n",
       "      <td>n</td>\n",
       "      <td>20.23</td>\n",
       "      <td>...</td>\n",
       "      <td>91.2</td>\n",
       "      <td>50.0</td>\n",
       "      <td>1.0</td>\n",
       "      <td>0.0</td>\n",
       "      <td>271427.0</td>\n",
       "      <td>60641.0</td>\n",
       "      <td>41200.0</td>\n",
       "      <td>49197.0</td>\n",
       "      <td>N</td>\n",
       "      <td>N</td>\n",
       "    </tr>\n",
       "    <tr>\n",
       "      <th>2</th>\n",
       "      <td>20000.0</td>\n",
       "      <td>0.2000</td>\n",
       "      <td>529.88</td>\n",
       "      <td>MORTGAGE</td>\n",
       "      <td>56000.0</td>\n",
       "      <td>Verified</td>\n",
       "      <td>Mar-2019</td>\n",
       "      <td>low_risk</td>\n",
       "      <td>n</td>\n",
       "      <td>24.26</td>\n",
       "      <td>...</td>\n",
       "      <td>66.7</td>\n",
       "      <td>50.0</td>\n",
       "      <td>0.0</td>\n",
       "      <td>0.0</td>\n",
       "      <td>60644.0</td>\n",
       "      <td>45684.0</td>\n",
       "      <td>7500.0</td>\n",
       "      <td>43144.0</td>\n",
       "      <td>N</td>\n",
       "      <td>N</td>\n",
       "    </tr>\n",
       "    <tr>\n",
       "      <th>3</th>\n",
       "      <td>10000.0</td>\n",
       "      <td>0.1640</td>\n",
       "      <td>353.55</td>\n",
       "      <td>RENT</td>\n",
       "      <td>92000.0</td>\n",
       "      <td>Verified</td>\n",
       "      <td>Mar-2019</td>\n",
       "      <td>low_risk</td>\n",
       "      <td>n</td>\n",
       "      <td>31.44</td>\n",
       "      <td>...</td>\n",
       "      <td>100.0</td>\n",
       "      <td>50.0</td>\n",
       "      <td>1.0</td>\n",
       "      <td>0.0</td>\n",
       "      <td>99506.0</td>\n",
       "      <td>68784.0</td>\n",
       "      <td>19700.0</td>\n",
       "      <td>76506.0</td>\n",
       "      <td>N</td>\n",
       "      <td>N</td>\n",
       "    </tr>\n",
       "    <tr>\n",
       "      <th>4</th>\n",
       "      <td>22000.0</td>\n",
       "      <td>0.1474</td>\n",
       "      <td>520.39</td>\n",
       "      <td>MORTGAGE</td>\n",
       "      <td>52000.0</td>\n",
       "      <td>Not Verified</td>\n",
       "      <td>Mar-2019</td>\n",
       "      <td>low_risk</td>\n",
       "      <td>n</td>\n",
       "      <td>18.76</td>\n",
       "      <td>...</td>\n",
       "      <td>100.0</td>\n",
       "      <td>0.0</td>\n",
       "      <td>0.0</td>\n",
       "      <td>0.0</td>\n",
       "      <td>219750.0</td>\n",
       "      <td>25919.0</td>\n",
       "      <td>27600.0</td>\n",
       "      <td>20000.0</td>\n",
       "      <td>N</td>\n",
       "      <td>N</td>\n",
       "    </tr>\n",
       "  </tbody>\n",
       "</table>\n",
       "<p>5 rows × 86 columns</p>\n",
       "</div>"
      ],
      "text/plain": [
       "   loan_amnt  int_rate  installment home_ownership  annual_inc  \\\n",
       "0    10500.0    0.1719       375.35           RENT     66000.0   \n",
       "1    25000.0    0.2000       929.09       MORTGAGE    105000.0   \n",
       "2    20000.0    0.2000       529.88       MORTGAGE     56000.0   \n",
       "3    10000.0    0.1640       353.55           RENT     92000.0   \n",
       "4    22000.0    0.1474       520.39       MORTGAGE     52000.0   \n",
       "\n",
       "  verification_status   issue_d loan_status pymnt_plan    dti  ...  \\\n",
       "0     Source Verified  Mar-2019    low_risk          n  27.24  ...   \n",
       "1            Verified  Mar-2019    low_risk          n  20.23  ...   \n",
       "2            Verified  Mar-2019    low_risk          n  24.26  ...   \n",
       "3            Verified  Mar-2019    low_risk          n  31.44  ...   \n",
       "4        Not Verified  Mar-2019    low_risk          n  18.76  ...   \n",
       "\n",
       "   pct_tl_nvr_dlq  percent_bc_gt_75  pub_rec_bankruptcies  tax_liens  \\\n",
       "0            85.7             100.0                   0.0        0.0   \n",
       "1            91.2              50.0                   1.0        0.0   \n",
       "2            66.7              50.0                   0.0        0.0   \n",
       "3           100.0              50.0                   1.0        0.0   \n",
       "4           100.0               0.0                   0.0        0.0   \n",
       "\n",
       "   tot_hi_cred_lim  total_bal_ex_mort total_bc_limit  \\\n",
       "0          65687.0            38199.0         2000.0   \n",
       "1         271427.0            60641.0        41200.0   \n",
       "2          60644.0            45684.0         7500.0   \n",
       "3          99506.0            68784.0        19700.0   \n",
       "4         219750.0            25919.0        27600.0   \n",
       "\n",
       "   total_il_high_credit_limit  hardship_flag  debt_settlement_flag  \n",
       "0                     61987.0              N                     N  \n",
       "1                     49197.0              N                     N  \n",
       "2                     43144.0              N                     N  \n",
       "3                     76506.0              N                     N  \n",
       "4                     20000.0              N                     N  \n",
       "\n",
       "[5 rows x 86 columns]"
      ]
     },
     "execution_count": 5,
     "metadata": {},
     "output_type": "execute_result"
    }
   ],
   "source": [
    "# Load the data\n",
    "file_path = Path('LoanStats_2019Q1.csv')\n",
    "df = pd.read_csv(file_path)\n",
    "\n",
    "# Preview the data\n",
    "df.head()"
   ]
  },
  {
   "cell_type": "markdown",
   "metadata": {},
   "source": [
    "## Split the Data into Training and Testing"
   ]
  },
  {
   "cell_type": "code",
   "execution_count": 6,
   "metadata": {
    "tags": []
   },
   "outputs": [
    {
     "name": "stdout",
     "output_type": "stream",
     "text": [
      "   loan_amnt  int_rate  installment  annual_inc    dti  delinq_2yrs  \\\n",
      "0    10500.0    0.1719       375.35     66000.0  27.24          0.0   \n",
      "1    25000.0    0.2000       929.09    105000.0  20.23          0.0   \n",
      "2    20000.0    0.2000       529.88     56000.0  24.26          0.0   \n",
      "3    10000.0    0.1640       353.55     92000.0  31.44          0.0   \n",
      "4    22000.0    0.1474       520.39     52000.0  18.76          0.0   \n",
      "\n",
      "   inq_last_6mths  open_acc  pub_rec  revol_bal  ...  \\\n",
      "0             0.0       8.0      0.0     1609.0  ...   \n",
      "1             0.0      17.0      1.0    18368.0  ...   \n",
      "2             0.0       8.0      0.0    13247.0  ...   \n",
      "3             1.0      10.0      1.0    17996.0  ...   \n",
      "4             1.0      14.0      0.0     9091.0  ...   \n",
      "\n",
      "   verification_status_Not Verified  verification_status_Source Verified  \\\n",
      "0                                 0                                    1   \n",
      "1                                 0                                    0   \n",
      "2                                 0                                    0   \n",
      "3                                 0                                    0   \n",
      "4                                 1                                    0   \n",
      "\n",
      "   verification_status_Verified  hardship_flag_N  debt_settlement_flag_N  \\\n",
      "0                             0                1                       1   \n",
      "1                             1                1                       1   \n",
      "2                             1                1                       1   \n",
      "3                             1                1                       1   \n",
      "4                             0                1                       1   \n",
      "\n",
      "   pymnt_plan_n  initial_list_status_f  initial_list_status_w  \\\n",
      "0             1                      0                      1   \n",
      "1             1                      0                      1   \n",
      "2             1                      0                      1   \n",
      "3             1                      0                      1   \n",
      "4             1                      0                      1   \n",
      "\n",
      "   application_type_Individual  application_type_Joint App  \n",
      "0                            1                           0  \n",
      "1                            1                           0  \n",
      "2                            1                           0  \n",
      "3                            1                           0  \n",
      "4                            1                           0  \n",
      "\n",
      "[5 rows x 90 columns]\n"
     ]
    }
   ],
   "source": [
    "# Create our features\n",
    "X = df.copy()\n",
    "X.drop(\"loan_status\", axis=1, inplace=True)\n",
    "X.drop(\"issue_d\", axis=1, inplace=True)\n",
    "X.drop(\"next_pymnt_d\", axis=1, inplace=True)\n",
    "#X.head()\n",
    "\n",
    "# encode the categorical variables \n",
    " # Creating an instance of label encoder\n",
    " # Binary encoding using Pandas (multiple columns)\n",
    "loans_binary_encoded = pd.get_dummies(X, columns=[\"home_ownership\", \"verification_status\", \n",
    "                                                  \"hardship_flag\", \"debt_settlement_flag\", \n",
    "                                                  \"pymnt_plan\", \"initial_list_status\",\"application_type\"])\n",
    "loans_binary_encoded.head()\n",
    "\n",
    "X = loans_binary_encoded.copy()\n",
    "\n",
    "print(X.head())\n",
    "\n"
   ]
  },
  {
   "cell_type": "code",
   "execution_count": 7,
   "metadata": {},
   "outputs": [
    {
     "data": {
      "text/plain": [
       "0    68470\n",
       "1      347\n",
       "Name: loan_status, dtype: int64"
      ]
     },
     "execution_count": 7,
     "metadata": {},
     "output_type": "execute_result"
    }
   ],
   "source": [
    "\n",
    "risk_code = {\n",
    "    \"low_risk\": 0,\n",
    "    \"high_risk\": 1,\n",
    "}\n",
    "\n",
    "\n",
    "# Create our target\n",
    "#y = df[\"loan_status\"].ravel()\n",
    "#y[:5]\n",
    "\n",
    "y = df[\"loan_status\"].copy()\n",
    "\n",
    "\n",
    "y1 = y.apply(lambda x: risk_code[x])\n",
    "\n",
    "#y_bin_enc = pd.get_dummies(y)\n",
    "#y_bin_enc.head()\n",
    "\n",
    "#y = y_bin_enc.copy()\n",
    "\n",
    "y1.value_counts()\n",
    "\n",
    "y = y1.copy()\n",
    "y.value_counts()"
   ]
  },
  {
   "cell_type": "code",
   "execution_count": 8,
   "metadata": {
    "tags": []
   },
   "outputs": [
    {
     "data": {
      "text/html": [
       "<div>\n",
       "<style scoped>\n",
       "    .dataframe tbody tr th:only-of-type {\n",
       "        vertical-align: middle;\n",
       "    }\n",
       "\n",
       "    .dataframe tbody tr th {\n",
       "        vertical-align: top;\n",
       "    }\n",
       "\n",
       "    .dataframe thead th {\n",
       "        text-align: right;\n",
       "    }\n",
       "</style>\n",
       "<table border=\"1\" class=\"dataframe\">\n",
       "  <thead>\n",
       "    <tr style=\"text-align: right;\">\n",
       "      <th></th>\n",
       "      <th>loan_amnt</th>\n",
       "      <th>int_rate</th>\n",
       "      <th>installment</th>\n",
       "      <th>annual_inc</th>\n",
       "      <th>dti</th>\n",
       "      <th>delinq_2yrs</th>\n",
       "      <th>inq_last_6mths</th>\n",
       "      <th>open_acc</th>\n",
       "      <th>pub_rec</th>\n",
       "      <th>revol_bal</th>\n",
       "      <th>...</th>\n",
       "      <th>verification_status_Not Verified</th>\n",
       "      <th>verification_status_Source Verified</th>\n",
       "      <th>verification_status_Verified</th>\n",
       "      <th>hardship_flag_N</th>\n",
       "      <th>debt_settlement_flag_N</th>\n",
       "      <th>pymnt_plan_n</th>\n",
       "      <th>initial_list_status_f</th>\n",
       "      <th>initial_list_status_w</th>\n",
       "      <th>application_type_Individual</th>\n",
       "      <th>application_type_Joint App</th>\n",
       "    </tr>\n",
       "  </thead>\n",
       "  <tbody>\n",
       "    <tr>\n",
       "      <th>count</th>\n",
       "      <td>68817.000000</td>\n",
       "      <td>68817.000000</td>\n",
       "      <td>68817.000000</td>\n",
       "      <td>6.881700e+04</td>\n",
       "      <td>68817.000000</td>\n",
       "      <td>68817.000000</td>\n",
       "      <td>68817.000000</td>\n",
       "      <td>68817.000000</td>\n",
       "      <td>68817.000000</td>\n",
       "      <td>68817.000000</td>\n",
       "      <td>...</td>\n",
       "      <td>68817.000000</td>\n",
       "      <td>68817.000000</td>\n",
       "      <td>68817.000000</td>\n",
       "      <td>68817.0</td>\n",
       "      <td>68817.0</td>\n",
       "      <td>68817.0</td>\n",
       "      <td>68817.000000</td>\n",
       "      <td>68817.000000</td>\n",
       "      <td>68817.000000</td>\n",
       "      <td>68817.000000</td>\n",
       "    </tr>\n",
       "    <tr>\n",
       "      <th>mean</th>\n",
       "      <td>16677.594562</td>\n",
       "      <td>0.127718</td>\n",
       "      <td>480.652863</td>\n",
       "      <td>8.821371e+04</td>\n",
       "      <td>21.778153</td>\n",
       "      <td>0.217766</td>\n",
       "      <td>0.497697</td>\n",
       "      <td>12.587340</td>\n",
       "      <td>0.126030</td>\n",
       "      <td>17604.142828</td>\n",
       "      <td>...</td>\n",
       "      <td>0.478007</td>\n",
       "      <td>0.373992</td>\n",
       "      <td>0.148001</td>\n",
       "      <td>1.0</td>\n",
       "      <td>1.0</td>\n",
       "      <td>1.0</td>\n",
       "      <td>0.123879</td>\n",
       "      <td>0.876121</td>\n",
       "      <td>0.860340</td>\n",
       "      <td>0.139660</td>\n",
       "    </tr>\n",
       "    <tr>\n",
       "      <th>std</th>\n",
       "      <td>10277.348590</td>\n",
       "      <td>0.048130</td>\n",
       "      <td>288.062432</td>\n",
       "      <td>1.155800e+05</td>\n",
       "      <td>20.199244</td>\n",
       "      <td>0.718367</td>\n",
       "      <td>0.758122</td>\n",
       "      <td>6.022869</td>\n",
       "      <td>0.336797</td>\n",
       "      <td>21835.880400</td>\n",
       "      <td>...</td>\n",
       "      <td>0.499520</td>\n",
       "      <td>0.483865</td>\n",
       "      <td>0.355104</td>\n",
       "      <td>0.0</td>\n",
       "      <td>0.0</td>\n",
       "      <td>0.0</td>\n",
       "      <td>0.329446</td>\n",
       "      <td>0.329446</td>\n",
       "      <td>0.346637</td>\n",
       "      <td>0.346637</td>\n",
       "    </tr>\n",
       "    <tr>\n",
       "      <th>min</th>\n",
       "      <td>1000.000000</td>\n",
       "      <td>0.060000</td>\n",
       "      <td>30.890000</td>\n",
       "      <td>4.000000e+01</td>\n",
       "      <td>0.000000</td>\n",
       "      <td>0.000000</td>\n",
       "      <td>0.000000</td>\n",
       "      <td>2.000000</td>\n",
       "      <td>0.000000</td>\n",
       "      <td>0.000000</td>\n",
       "      <td>...</td>\n",
       "      <td>0.000000</td>\n",
       "      <td>0.000000</td>\n",
       "      <td>0.000000</td>\n",
       "      <td>1.0</td>\n",
       "      <td>1.0</td>\n",
       "      <td>1.0</td>\n",
       "      <td>0.000000</td>\n",
       "      <td>0.000000</td>\n",
       "      <td>0.000000</td>\n",
       "      <td>0.000000</td>\n",
       "    </tr>\n",
       "    <tr>\n",
       "      <th>25%</th>\n",
       "      <td>9000.000000</td>\n",
       "      <td>0.088100</td>\n",
       "      <td>265.730000</td>\n",
       "      <td>5.000000e+04</td>\n",
       "      <td>13.890000</td>\n",
       "      <td>0.000000</td>\n",
       "      <td>0.000000</td>\n",
       "      <td>8.000000</td>\n",
       "      <td>0.000000</td>\n",
       "      <td>6293.000000</td>\n",
       "      <td>...</td>\n",
       "      <td>0.000000</td>\n",
       "      <td>0.000000</td>\n",
       "      <td>0.000000</td>\n",
       "      <td>1.0</td>\n",
       "      <td>1.0</td>\n",
       "      <td>1.0</td>\n",
       "      <td>0.000000</td>\n",
       "      <td>1.000000</td>\n",
       "      <td>1.000000</td>\n",
       "      <td>0.000000</td>\n",
       "    </tr>\n",
       "    <tr>\n",
       "      <th>50%</th>\n",
       "      <td>15000.000000</td>\n",
       "      <td>0.118000</td>\n",
       "      <td>404.560000</td>\n",
       "      <td>7.300000e+04</td>\n",
       "      <td>19.760000</td>\n",
       "      <td>0.000000</td>\n",
       "      <td>0.000000</td>\n",
       "      <td>11.000000</td>\n",
       "      <td>0.000000</td>\n",
       "      <td>12068.000000</td>\n",
       "      <td>...</td>\n",
       "      <td>0.000000</td>\n",
       "      <td>0.000000</td>\n",
       "      <td>0.000000</td>\n",
       "      <td>1.0</td>\n",
       "      <td>1.0</td>\n",
       "      <td>1.0</td>\n",
       "      <td>0.000000</td>\n",
       "      <td>1.000000</td>\n",
       "      <td>1.000000</td>\n",
       "      <td>0.000000</td>\n",
       "    </tr>\n",
       "    <tr>\n",
       "      <th>75%</th>\n",
       "      <td>24000.000000</td>\n",
       "      <td>0.155700</td>\n",
       "      <td>648.100000</td>\n",
       "      <td>1.040000e+05</td>\n",
       "      <td>26.660000</td>\n",
       "      <td>0.000000</td>\n",
       "      <td>1.000000</td>\n",
       "      <td>16.000000</td>\n",
       "      <td>0.000000</td>\n",
       "      <td>21735.000000</td>\n",
       "      <td>...</td>\n",
       "      <td>1.000000</td>\n",
       "      <td>1.000000</td>\n",
       "      <td>0.000000</td>\n",
       "      <td>1.0</td>\n",
       "      <td>1.0</td>\n",
       "      <td>1.0</td>\n",
       "      <td>0.000000</td>\n",
       "      <td>1.000000</td>\n",
       "      <td>1.000000</td>\n",
       "      <td>0.000000</td>\n",
       "    </tr>\n",
       "    <tr>\n",
       "      <th>max</th>\n",
       "      <td>40000.000000</td>\n",
       "      <td>0.308400</td>\n",
       "      <td>1676.230000</td>\n",
       "      <td>8.797500e+06</td>\n",
       "      <td>999.000000</td>\n",
       "      <td>18.000000</td>\n",
       "      <td>5.000000</td>\n",
       "      <td>72.000000</td>\n",
       "      <td>4.000000</td>\n",
       "      <td>587191.000000</td>\n",
       "      <td>...</td>\n",
       "      <td>1.000000</td>\n",
       "      <td>1.000000</td>\n",
       "      <td>1.000000</td>\n",
       "      <td>1.0</td>\n",
       "      <td>1.0</td>\n",
       "      <td>1.0</td>\n",
       "      <td>1.000000</td>\n",
       "      <td>1.000000</td>\n",
       "      <td>1.000000</td>\n",
       "      <td>1.000000</td>\n",
       "    </tr>\n",
       "  </tbody>\n",
       "</table>\n",
       "<p>8 rows × 90 columns</p>\n",
       "</div>"
      ],
      "text/plain": [
       "          loan_amnt      int_rate   installment    annual_inc           dti  \\\n",
       "count  68817.000000  68817.000000  68817.000000  6.881700e+04  68817.000000   \n",
       "mean   16677.594562      0.127718    480.652863  8.821371e+04     21.778153   \n",
       "std    10277.348590      0.048130    288.062432  1.155800e+05     20.199244   \n",
       "min     1000.000000      0.060000     30.890000  4.000000e+01      0.000000   \n",
       "25%     9000.000000      0.088100    265.730000  5.000000e+04     13.890000   \n",
       "50%    15000.000000      0.118000    404.560000  7.300000e+04     19.760000   \n",
       "75%    24000.000000      0.155700    648.100000  1.040000e+05     26.660000   \n",
       "max    40000.000000      0.308400   1676.230000  8.797500e+06    999.000000   \n",
       "\n",
       "        delinq_2yrs  inq_last_6mths      open_acc       pub_rec  \\\n",
       "count  68817.000000    68817.000000  68817.000000  68817.000000   \n",
       "mean       0.217766        0.497697     12.587340      0.126030   \n",
       "std        0.718367        0.758122      6.022869      0.336797   \n",
       "min        0.000000        0.000000      2.000000      0.000000   \n",
       "25%        0.000000        0.000000      8.000000      0.000000   \n",
       "50%        0.000000        0.000000     11.000000      0.000000   \n",
       "75%        0.000000        1.000000     16.000000      0.000000   \n",
       "max       18.000000        5.000000     72.000000      4.000000   \n",
       "\n",
       "           revol_bal  ...  verification_status_Not Verified  \\\n",
       "count   68817.000000  ...                      68817.000000   \n",
       "mean    17604.142828  ...                          0.478007   \n",
       "std     21835.880400  ...                          0.499520   \n",
       "min         0.000000  ...                          0.000000   \n",
       "25%      6293.000000  ...                          0.000000   \n",
       "50%     12068.000000  ...                          0.000000   \n",
       "75%     21735.000000  ...                          1.000000   \n",
       "max    587191.000000  ...                          1.000000   \n",
       "\n",
       "       verification_status_Source Verified  verification_status_Verified  \\\n",
       "count                         68817.000000                  68817.000000   \n",
       "mean                              0.373992                      0.148001   \n",
       "std                               0.483865                      0.355104   \n",
       "min                               0.000000                      0.000000   \n",
       "25%                               0.000000                      0.000000   \n",
       "50%                               0.000000                      0.000000   \n",
       "75%                               1.000000                      0.000000   \n",
       "max                               1.000000                      1.000000   \n",
       "\n",
       "       hardship_flag_N  debt_settlement_flag_N  pymnt_plan_n  \\\n",
       "count          68817.0                 68817.0       68817.0   \n",
       "mean               1.0                     1.0           1.0   \n",
       "std                0.0                     0.0           0.0   \n",
       "min                1.0                     1.0           1.0   \n",
       "25%                1.0                     1.0           1.0   \n",
       "50%                1.0                     1.0           1.0   \n",
       "75%                1.0                     1.0           1.0   \n",
       "max                1.0                     1.0           1.0   \n",
       "\n",
       "       initial_list_status_f  initial_list_status_w  \\\n",
       "count           68817.000000           68817.000000   \n",
       "mean                0.123879               0.876121   \n",
       "std                 0.329446               0.329446   \n",
       "min                 0.000000               0.000000   \n",
       "25%                 0.000000               1.000000   \n",
       "50%                 0.000000               1.000000   \n",
       "75%                 0.000000               1.000000   \n",
       "max                 1.000000               1.000000   \n",
       "\n",
       "       application_type_Individual  application_type_Joint App  \n",
       "count                 68817.000000                68817.000000  \n",
       "mean                      0.860340                    0.139660  \n",
       "std                       0.346637                    0.346637  \n",
       "min                       0.000000                    0.000000  \n",
       "25%                       1.000000                    0.000000  \n",
       "50%                       1.000000                    0.000000  \n",
       "75%                       1.000000                    0.000000  \n",
       "max                       1.000000                    1.000000  \n",
       "\n",
       "[8 rows x 90 columns]"
      ]
     },
     "execution_count": 8,
     "metadata": {},
     "output_type": "execute_result"
    }
   ],
   "source": [
    "X.describe()"
   ]
  },
  {
   "cell_type": "code",
   "execution_count": 9,
   "metadata": {},
   "outputs": [
    {
     "data": {
      "text/plain": [
       "low_risk     68470\n",
       "high_risk      347\n",
       "Name: loan_status, dtype: int64"
      ]
     },
     "execution_count": 9,
     "metadata": {},
     "output_type": "execute_result"
    }
   ],
   "source": [
    "# Check the balance of our target values\n",
    "# y is the loan status column \n",
    "# this is clearly imbalanced \n",
    "df.loan_status.value_counts()"
   ]
  },
  {
   "cell_type": "code",
   "execution_count": 10,
   "metadata": {},
   "outputs": [
    {
     "data": {
      "text/plain": [
       "0    68470\n",
       "1      347\n",
       "Name: loan_status, dtype: int64"
      ]
     },
     "execution_count": 10,
     "metadata": {},
     "output_type": "execute_result"
    }
   ],
   "source": [
    "# Split the X and y into X_train, X_test, y_train, y_test\n",
    " # Splitting into Train and Test sets\n",
    "X_train, X_test, y_train, y_test = train_test_split(X, y, random_state=78)\n",
    "y.value_counts()"
   ]
  },
  {
   "cell_type": "markdown",
   "metadata": {},
   "source": [
    "## Data Pre-Processing\n",
    "\n",
    "Scale the training and testing data using the `StandardScaler` from `sklearn`. Remember that when scaling the data, you only scale the features data (`X_train` and `X_testing`)."
   ]
  },
  {
   "cell_type": "code",
   "execution_count": 11,
   "metadata": {},
   "outputs": [],
   "source": [
    "# Create the StandardScaler instance\n",
    "scaler = StandardScaler()"
   ]
  },
  {
   "cell_type": "code",
   "execution_count": 12,
   "metadata": {},
   "outputs": [],
   "source": [
    "# Fit the Standard Scaler with the training data\n",
    "# When fitting scaling functions, only train on the training dataset\n",
    "X_scaler = scaler.fit(X_train)"
   ]
  },
  {
   "cell_type": "code",
   "execution_count": 13,
   "metadata": {},
   "outputs": [],
   "source": [
    "# Scale the training and testing data\n",
    "X_train_scaled = X_scaler.transform(X_train)\n",
    "X_test_scaled = X_scaler.transform(X_test)"
   ]
  },
  {
   "cell_type": "code",
   "execution_count": 14,
   "metadata": {},
   "outputs": [
    {
     "data": {
      "text/plain": [
       "Counter({0: 68470, 1: 347})"
      ]
     },
     "execution_count": 14,
     "metadata": {},
     "output_type": "execute_result"
    }
   ],
   "source": [
    "Counter(y)"
   ]
  },
  {
   "cell_type": "markdown",
   "metadata": {},
   "source": [
    "## Ensemble Learners\n",
    "\n",
    "In this section, you will compare two ensemble algorithms to determine which algorithm results in the best performance. You will train a Balanced Random Forest Classifier and an Easy Ensemble classifier . For each algorithm, be sure to complete the folliowing steps:\n",
    "\n",
    "1. Train the model using the training data. \n",
    "2. Calculate the balanced accuracy score from sklearn.metrics.\n",
    "3. Display the confusion matrix from sklearn.metrics.\n",
    "4. Generate a classication report using the `imbalanced_classification_report` from imbalanced-learn.\n",
    "5. For the Balanced Random Forest Classifier only, print the feature importance sorted in descending order (most important feature to least important) along with the feature score\n",
    "\n",
    "Note: Use a random state of 1 for each algorithm to ensure consistency between tests"
   ]
  },
  {
   "cell_type": "markdown",
   "metadata": {},
   "source": [
    "### Balanced Random Forest Classifier"
   ]
  },
  {
   "cell_type": "code",
   "execution_count": 15,
   "metadata": {},
   "outputs": [
    {
     "data": {
      "text/plain": [
       "Counter({0: 51357, 1: 51357})"
      ]
     },
     "execution_count": 15,
     "metadata": {},
     "output_type": "execute_result"
    }
   ],
   "source": [
    "# Resample the training data with the BalancedRandomForestClassifier\n",
    "ros = RandomOverSampler(random_state=1)\n",
    "X_resampled, y_resampled = ros.fit_resample(X_train, y_train)\n",
    "Counter(y_resampled)\n",
    "\n"
   ]
  },
  {
   "cell_type": "code",
   "execution_count": 16,
   "metadata": {},
   "outputs": [],
   "source": [
    " # Create a random forest classifier\n",
    "rf_model = RandomForestClassifier(n_estimators=500, random_state=78)\n",
    "\n",
    "rfb_model =BalancedRandomForestClassifier(n_estimators=500, random_state=78)\n"
   ]
  },
  {
   "cell_type": "code",
   "execution_count": 17,
   "metadata": {},
   "outputs": [],
   "source": [
    "# Calculated the balanced accuracy score\n",
    " # Fitting the model\n",
    "#rf_model = rf_model.fit(X_train_scaled, y_train)\n",
    "\n",
    "rfb_model = rfb_model.fit(X_train_scaled, y_train)\n"
   ]
  },
  {
   "cell_type": "code",
   "execution_count": 18,
   "metadata": {},
   "outputs": [
    {
     "data": {
      "text/plain": [
       "0.8769543737285673"
      ]
     },
     "execution_count": 18,
     "metadata": {},
     "output_type": "execute_result"
    }
   ],
   "source": [
    "# Making predictions using the testing data\n",
    "#predictions = rf_model.predict(X_test_scaled)\n",
    " # Calculating the confusion matrix\n",
    "#cm = confusion_matrix(y_test, predictions)\n",
    "#cm_df = pd.DataFrame(\n",
    "#    cm, index=[\"Actual 0\", \"Actual 1\"], columns=[\"Predicted 0\", \"Predicted 1\"]\n",
    "#)\n",
    "\n",
    "# Calculating the accuracy score\n",
    "#acc_score = accuracy_score(y_test, predictions)\n",
    "\n",
    "# Making predictions using the testing data\n",
    "predictionsb = rfb_model.predict(X_test_scaled)\n",
    " # Calculating the confusion matrix\n",
    "cmb = confusion_matrix(y_test, predictionsb)\n",
    "cmb_df = pd.DataFrame(\n",
    "    cmb, index=[\"Actual 0\", \"Actual 1\"], columns=[\"Predicted 0\", \"Predicted 1\"]\n",
    ")\n",
    "\n",
    "# Calculating the accuracy score\n",
    "acc_score = accuracy_score(y_test, predictionsb)\n",
    "acc_score"
   ]
  },
  {
   "cell_type": "code",
   "execution_count": 19,
   "metadata": {},
   "outputs": [
    {
     "name": "stdout",
     "output_type": "stream",
     "text": [
      "Confusion Matrix\n"
     ]
    },
    {
     "data": {
      "text/html": [
       "<div>\n",
       "<style scoped>\n",
       "    .dataframe tbody tr th:only-of-type {\n",
       "        vertical-align: middle;\n",
       "    }\n",
       "\n",
       "    .dataframe tbody tr th {\n",
       "        vertical-align: top;\n",
       "    }\n",
       "\n",
       "    .dataframe thead th {\n",
       "        text-align: right;\n",
       "    }\n",
       "</style>\n",
       "<table border=\"1\" class=\"dataframe\">\n",
       "  <thead>\n",
       "    <tr style=\"text-align: right;\">\n",
       "      <th></th>\n",
       "      <th>Predicted 0</th>\n",
       "      <th>Predicted 1</th>\n",
       "    </tr>\n",
       "  </thead>\n",
       "  <tbody>\n",
       "    <tr>\n",
       "      <th>Actual 0</th>\n",
       "      <td>15038</td>\n",
       "      <td>2075</td>\n",
       "    </tr>\n",
       "    <tr>\n",
       "      <th>Actual 1</th>\n",
       "      <td>42</td>\n",
       "      <td>50</td>\n",
       "    </tr>\n",
       "  </tbody>\n",
       "</table>\n",
       "</div>"
      ],
      "text/plain": [
       "          Predicted 0  Predicted 1\n",
       "Actual 0        15038         2075\n",
       "Actual 1           42           50"
      ]
     },
     "metadata": {},
     "output_type": "display_data"
    },
    {
     "name": "stdout",
     "output_type": "stream",
     "text": [
      "Accuracy Score : 0.8769543737285673\n",
      "Classification Report\n",
      "              precision    recall  f1-score   support\n",
      "\n",
      "           0       1.00      0.88      0.93     17113\n",
      "           1       0.02      0.54      0.05        92\n",
      "\n",
      "    accuracy                           0.88     17205\n",
      "   macro avg       0.51      0.71      0.49     17205\n",
      "weighted avg       0.99      0.88      0.93     17205\n",
      "\n"
     ]
    }
   ],
   "source": [
    "# Display the confusion matrix\n",
    " # Displaying results\n",
    "print(\"Confusion Matrix\")\n",
    "display(cmb_df)\n",
    "print(f\"Accuracy Score : {acc_score}\")\n",
    "print(\"Classification Report\")\n",
    "print(classification_report(y_test, predictionsb))"
   ]
  },
  {
   "cell_type": "code",
   "execution_count": 20,
   "metadata": {
    "tags": []
   },
   "outputs": [
    {
     "data": {
      "text/plain": [
       "array([0.01028084, 0.03077107, 0.01676734, 0.01725047, 0.0197264 ,\n",
       "       0.00445458, 0.01066357, 0.00912163, 0.00146043, 0.017233  ,\n",
       "       0.01171212, 0.01359684, 0.01479078, 0.05666139, 0.060524  ,\n",
       "       0.07386903, 0.05777859, 0.01367504, 0.        , 0.        ,\n",
       "       0.06445934, 0.00051535, 0.        , 0.        , 0.00315033,\n",
       "       0.01279071, 0.00568585, 0.00702683, 0.00382622, 0.0078478 ,\n",
       "       0.01366285, 0.012919  , 0.01369483, 0.00448731, 0.0062632 ,\n",
       "       0.01763584, 0.01223789, 0.01429996, 0.00837405, 0.00760583,\n",
       "       0.00947571, 0.00888404, 0.01353652, 0.01378885, 0.01768981,\n",
       "       0.00013019, 0.        , 0.0153516 , 0.01772646, 0.0119675 ,\n",
       "       0.0109851 , 0.00598532, 0.01198685, 0.01561249, 0.00362745,\n",
       "       0.0077206 , 0.00993756, 0.00701133, 0.00915926, 0.0110205 ,\n",
       "       0.00882582, 0.01164589, 0.00882076, 0.01033025, 0.        ,\n",
       "       0.        , 0.00072994, 0.0079392 , 0.00889404, 0.00672564,\n",
       "       0.00141313, 0.        , 0.01507653, 0.01380507, 0.01713742,\n",
       "       0.01282872, 0.00013283, 0.00160932, 0.0018531 , 0.00175854,\n",
       "       0.00203773, 0.00227707, 0.00266348, 0.        , 0.        ,\n",
       "       0.        , 0.00096817, 0.00120546, 0.00125186, 0.00165254])"
      ]
     },
     "execution_count": 20,
     "metadata": {},
     "output_type": "execute_result"
    }
   ],
   "source": [
    "# Print the imbalanced classification report\n",
    "importances = rfb_model.feature_importances_\n",
    "importances"
   ]
  },
  {
   "cell_type": "code",
   "execution_count": 21,
   "metadata": {},
   "outputs": [
    {
     "name": "stdout",
     "output_type": "stream",
     "text": [
      "                   pre       rec       spe        f1       geo       iba       sup\n",
      "\n",
      "          0       1.00      0.88      0.54      0.93      0.69      0.49     17113\n",
      "          1       0.02      0.54      0.88      0.05      0.69      0.46        92\n",
      "\n",
      "avg / total       0.99      0.88      0.55      0.93      0.69      0.49     17205\n",
      "\n"
     ]
    }
   ],
   "source": [
    "print(classification_report_imbalanced(y_test, predictionsb))"
   ]
  },
  {
   "cell_type": "code",
   "execution_count": 22,
   "metadata": {
    "tags": []
   },
   "outputs": [
    {
     "data": {
      "text/plain": [
       "[(0.07386902963971798, 'total_rec_prncp'),\n",
       " (0.06445934455509018, 'last_pymnt_amnt'),\n",
       " (0.06052400159572526, 'total_pymnt_inv'),\n",
       " (0.05777859303750801, 'total_rec_int'),\n",
       " (0.05666139453891473, 'total_pymnt'),\n",
       " (0.030771070732497005, 'int_rate'),\n",
       " (0.01972640120527161, 'dti'),\n",
       " (0.017726464194883818, 'mo_sin_old_rev_tl_op'),\n",
       " (0.017689810960172463, 'bc_util'),\n",
       " (0.017635841122037428, 'max_bal_bc'),\n",
       " (0.01725047112022555, 'annual_inc'),\n",
       " (0.017232996738917726, 'revol_bal'),\n",
       " (0.017137416313661533, 'total_bc_limit'),\n",
       " (0.01676733899053711, 'installment'),\n",
       " (0.015612492787435034, 'mths_since_recent_inq'),\n",
       " (0.01535159793263124, 'mo_sin_old_il_acct'),\n",
       " (0.015076531469989137, 'tot_hi_cred_lim'),\n",
       " (0.01479078324192959, 'out_prncp_inv'),\n",
       " (0.014299962106055752, 'total_rev_hi_lim'),\n",
       " (0.013805071352902964, 'total_bal_ex_mort'),\n",
       " (0.013788852880833782, 'bc_open_to_buy'),\n",
       " (0.013694827710895804, 'il_util'),\n",
       " (0.013675036939026722, 'total_rec_late_fee'),\n",
       " (0.013662849473306227, 'mths_since_rcnt_il'),\n",
       " (0.01359684011672968, 'out_prncp'),\n",
       " (0.013536522783790852, 'avg_cur_bal'),\n",
       " (0.012918998351896792, 'total_bal_il'),\n",
       " (0.012828721841011298, 'total_il_high_credit_limit'),\n",
       " (0.012790713388162475, 'tot_cur_bal'),\n",
       " (0.012237889772335342, 'all_util'),\n",
       " (0.011986850131119357, 'mths_since_recent_bc'),\n",
       " (0.01196749613728788, 'mo_sin_rcnt_rev_tl_op'),\n",
       " (0.011712123456761819, 'total_acc'),\n",
       " (0.011645889093426943, 'num_rev_accts'),\n",
       " (0.011020504853988053, 'num_il_tl'),\n",
       " (0.010985102356905111, 'mo_sin_rcnt_tl'),\n",
       " (0.010663570291736965, 'inq_last_6mths'),\n",
       " (0.01033024835607276, 'num_sats'),\n",
       " (0.010280843830367706, 'loan_amnt'),\n",
       " (0.009937563095090928, 'num_actv_rev_tl'),\n",
       " (0.009475712099656738, 'inq_last_12m'),\n",
       " (0.009159263433664945, 'num_bc_tl'),\n",
       " (0.009121627668794239, 'open_acc'),\n",
       " (0.00889404424205052, 'pct_tl_nvr_dlq'),\n",
       " (0.008884042090506397, 'acc_open_past_24mths'),\n",
       " (0.008825815951828526, 'num_op_rev_tl'),\n",
       " (0.008820763946307299, 'num_rev_tl_bal_gt_0'),\n",
       " (0.008374053718635846, 'inq_fi'),\n",
       " (0.007939198123854196, 'num_tl_op_past_12m'),\n",
       " (0.007847802020248065, 'open_il_24m'),\n",
       " (0.007720602429912801, 'num_actv_bc_tl'),\n",
       " (0.007605829067448131, 'total_cu_tl'),\n",
       " (0.007026832852045829, 'open_act_il'),\n",
       " (0.0070113306340224895, 'num_bc_sats'),\n",
       " (0.0067256412468127144, 'percent_bc_gt_75'),\n",
       " (0.006263202079271381, 'open_rv_24m'),\n",
       " (0.005985317143359875, 'mort_acc'),\n",
       " (0.005685853909821536, 'open_acc_6m'),\n",
       " (0.004487307574210897, 'open_rv_12m'),\n",
       " (0.004454575904921839, 'delinq_2yrs'),\n",
       " (0.0038262233536147357, 'open_il_12m'),\n",
       " (0.003627447399410396, 'num_accts_ever_120_pd'),\n",
       " (0.0031503342202459017, 'tot_coll_amt'),\n",
       " (0.0026634773554846786, 'verification_status_Verified'),\n",
       " (0.002277065646176508, 'verification_status_Source Verified'),\n",
       " (0.002037734347180339, 'verification_status_Not Verified'),\n",
       " (0.001853095335466199, 'home_ownership_OWN'),\n",
       " (0.0017585368232040028, 'home_ownership_RENT'),\n",
       " (0.0016525390694299511, 'application_type_Joint App'),\n",
       " (0.001609316210657927, 'home_ownership_MORTGAGE'),\n",
       " (0.001460431447665649, 'pub_rec'),\n",
       " (0.0014131345162520887, 'pub_rec_bankruptcies'),\n",
       " (0.0012518577161543846, 'application_type_Individual'),\n",
       " (0.001205458658259741, 'initial_list_status_w'),\n",
       " (0.0009681669457821465, 'initial_list_status_f'),\n",
       " (0.000729937473652368, 'num_tl_90g_dpd_24m'),\n",
       " (0.0005153506878286657, 'collections_12_mths_ex_med'),\n",
       " (0.00013283217381175938, 'home_ownership_ANY'),\n",
       " (0.00013018598549741485, 'chargeoff_within_12_mths'),\n",
       " (0.0, 'tax_liens'),\n",
       " (0.0, 'recoveries'),\n",
       " (0.0, 'pymnt_plan_n'),\n",
       " (0.0, 'policy_code'),\n",
       " (0.0, 'num_tl_30dpd'),\n",
       " (0.0, 'num_tl_120dpd_2m'),\n",
       " (0.0, 'hardship_flag_N'),\n",
       " (0.0, 'delinq_amnt'),\n",
       " (0.0, 'debt_settlement_flag_N'),\n",
       " (0.0, 'collection_recovery_fee'),\n",
       " (0.0, 'acc_now_delinq')]"
      ]
     },
     "execution_count": 22,
     "metadata": {},
     "output_type": "execute_result"
    }
   ],
   "source": [
    "# List the features sorted in descending order by feature importance\n",
    "sorted(zip(rfb_model.feature_importances_, X.columns), reverse=True)"
   ]
  },
  {
   "cell_type": "code",
   "execution_count": 23,
   "metadata": {},
   "outputs": [
    {
     "data": {
      "text/plain": [
       "<AxesSubplot:title={'center':'Features Importances'}, ylabel='1'>"
      ]
     },
     "execution_count": 23,
     "metadata": {},
     "output_type": "execute_result"
    },
    {
     "data": {
      "image/png": "[encoded data removed]",
      "text/plain": [
       "<Figure size 432x288 with 1 Axes>"
      ]
     },
     "metadata": {
      "needs_background": "light"
     },
     "output_type": "display_data"
    }
   ],
   "source": [
    " # Visualize the features by importance\n",
    "importances_df = pd.DataFrame(sorted(zip(rfb_model.feature_importances_, X.columns), reverse=True))\n",
    "importances_df.set_index(importances_df[1], inplace=True)\n",
    "importances_df.drop(columns=1, inplace=True)\n",
    "importances_df.rename(columns={0: 'Feature Importances'}, inplace=True)\n",
    "importances_sorted = importances_df.sort_values(by='Feature Importances')\n",
    "importances_sorted.plot(kind='barh', color='lightgreen', title= 'Features Importances', legend=False)\n"
   ]
  },
  {
   "cell_type": "markdown",
   "metadata": {},
   "source": [
    "### Easy Ensemble Classifier"
   ]
  },
  {
   "cell_type": "code",
   "execution_count": 24,
   "metadata": {},
   "outputs": [],
   "source": [
    "# Train the Classifier\n",
    "rfe_model =EasyEnsembleClassifier(n_estimators=500, random_state=78)\n",
    "rfe_model = rfe_model.fit(X_train_scaled, y_train)\n",
    "\n",
    "# Making predictions using the testing data\n",
    "predictions_e = rfe_model.predict(X_test_scaled)\n",
    " # Calculating the confusion matrix\n",
    "cm_e = confusion_matrix(y_test, predictions_e)\n",
    "cm_e_df = pd.DataFrame(\n",
    "    cm_e, index=[\"Actual 0\", \"Actual 1\"], columns=[\"Predicted 0\", \"Predicted 1\"]\n",
    ")\n",
    "\n",
    "# Calculating the accuracy score\n",
    "acc_score = accuracy_score(y_test, predictions_e)"
   ]
  },
  {
   "cell_type": "code",
   "execution_count": 25,
   "metadata": {},
   "outputs": [
    {
     "name": "stdout",
     "output_type": "stream",
     "text": [
      "Confusion Matrix\n"
     ]
    },
    {
     "data": {
      "text/html": [
       "<div>\n",
       "<style scoped>\n",
       "    .dataframe tbody tr th:only-of-type {\n",
       "        vertical-align: middle;\n",
       "    }\n",
       "\n",
       "    .dataframe tbody tr th {\n",
       "        vertical-align: top;\n",
       "    }\n",
       "\n",
       "    .dataframe thead th {\n",
       "        text-align: right;\n",
       "    }\n",
       "</style>\n",
       "<table border=\"1\" class=\"dataframe\">\n",
       "  <thead>\n",
       "    <tr style=\"text-align: right;\">\n",
       "      <th></th>\n",
       "      <th>Predicted 0</th>\n",
       "      <th>Predicted 1</th>\n",
       "    </tr>\n",
       "  </thead>\n",
       "  <tbody>\n",
       "    <tr>\n",
       "      <th>Actual 0</th>\n",
       "      <td>13515</td>\n",
       "      <td>3598</td>\n",
       "    </tr>\n",
       "    <tr>\n",
       "      <th>Actual 1</th>\n",
       "      <td>36</td>\n",
       "      <td>56</td>\n",
       "    </tr>\n",
       "  </tbody>\n",
       "</table>\n",
       "</div>"
      ],
      "text/plain": [
       "          Predicted 0  Predicted 1\n",
       "Actual 0        13515         3598\n",
       "Actual 1           36           56"
      ]
     },
     "metadata": {},
     "output_type": "display_data"
    },
    {
     "name": "stdout",
     "output_type": "stream",
     "text": [
      "Accuracy Score : 0.7887823307178146\n",
      "Classification Report\n",
      "              precision    recall  f1-score   support\n",
      "\n",
      "           0       1.00      0.79      0.88     17113\n",
      "           1       0.02      0.61      0.03        92\n",
      "\n",
      "    accuracy                           0.79     17205\n",
      "   macro avg       0.51      0.70      0.46     17205\n",
      "weighted avg       0.99      0.79      0.88     17205\n",
      "\n"
     ]
    }
   ],
   "source": [
    "# Calculated the balanced accuracy score\n",
    "# Display the confusion matrix\n",
    "\n",
    "print(\"Confusion Matrix\")\n",
    "display(cm_e_df)\n",
    "print(f\"Accuracy Score : {acc_score}\")\n",
    "print(\"Classification Report\")\n",
    "print(classification_report(y_test, predictions_e))"
   ]
  },
  {
   "cell_type": "code",
   "execution_count": 130,
   "metadata": {},
   "outputs": [
    {
     "name": "stdout",
     "output_type": "stream",
     "text": [
      "                   pre       rec       spe        f1       geo       iba       sup\n",
      "\n",
      "          0       1.00      0.79      0.61      0.88      0.69      0.49     17113\n",
      "          1       0.02      0.61      0.79      0.03      0.69      0.47        92\n",
      "\n",
      "avg / total       0.99      0.79      0.61      0.88      0.69      0.49     17205\n",
      "\n"
     ]
    }
   ],
   "source": [
    "print(classification_report_imbalanced(y_test, predictions_e))"
   ]
  },
  {
   "cell_type": "code",
   "execution_count": 118,
   "metadata": {},
   "outputs": [
    {
     "data": {
      "text/plain": [
       "array([0.01028084, 0.03077107, 0.01676734, 0.01725047, 0.0197264 ,\n",
       "       0.00445458, 0.01066357, 0.00912163, 0.00146043, 0.017233  ,\n",
       "       0.01171212, 0.01359684, 0.01479078, 0.05666139, 0.060524  ,\n",
       "       0.07386903, 0.05777859, 0.01367504, 0.        , 0.        ,\n",
       "       0.06445934, 0.00051535, 0.        , 0.        , 0.00315033,\n",
       "       0.01279071, 0.00568585, 0.00702683, 0.00382622, 0.0078478 ,\n",
       "       0.01366285, 0.012919  , 0.01369483, 0.00448731, 0.0062632 ,\n",
       "       0.01763584, 0.01223789, 0.01429996, 0.00837405, 0.00760583,\n",
       "       0.00947571, 0.00888404, 0.01353652, 0.01378885, 0.01768981,\n",
       "       0.00013019, 0.        , 0.0153516 , 0.01772646, 0.0119675 ,\n",
       "       0.0109851 , 0.00598532, 0.01198685, 0.01561249, 0.00362745,\n",
       "       0.0077206 , 0.00993756, 0.00701133, 0.00915926, 0.0110205 ,\n",
       "       0.00882582, 0.01164589, 0.00882076, 0.01033025, 0.        ,\n",
       "       0.        , 0.00072994, 0.0079392 , 0.00889404, 0.00672564,\n",
       "       0.00141313, 0.        , 0.01507653, 0.01380507, 0.01713742,\n",
       "       0.01282872, 0.00013283, 0.00160932, 0.0018531 , 0.00175854,\n",
       "       0.00203773, 0.00227707, 0.00266348, 0.        , 0.        ,\n",
       "       0.        , 0.00096817, 0.00120546, 0.00125186, 0.00165254])"
      ]
     },
     "execution_count": 118,
     "metadata": {},
     "output_type": "execute_result"
    }
   ],
   "source": [
    "# Print the imbalanced classification report\n",
    "importances = rfb_model.feature_importances_\n",
    "importances"
   ]
  },
  {
   "cell_type": "code",
   "execution_count": 119,
   "metadata": {},
   "outputs": [
    {
     "data": {
      "text/plain": [
       "[(0.07386902963971798, 'total_rec_prncp'),\n",
       " (0.06445934455509018, 'last_pymnt_amnt'),\n",
       " (0.06052400159572526, 'total_pymnt_inv'),\n",
       " (0.05777859303750801, 'total_rec_int'),\n",
       " (0.05666139453891473, 'total_pymnt'),\n",
       " (0.030771070732497005, 'int_rate'),\n",
       " (0.01972640120527161, 'dti'),\n",
       " (0.017726464194883818, 'mo_sin_old_rev_tl_op'),\n",
       " (0.017689810960172463, 'bc_util'),\n",
       " (0.017635841122037428, 'max_bal_bc'),\n",
       " (0.01725047112022555, 'annual_inc'),\n",
       " (0.017232996738917726, 'revol_bal'),\n",
       " (0.017137416313661533, 'total_bc_limit'),\n",
       " (0.01676733899053711, 'installment'),\n",
       " (0.015612492787435034, 'mths_since_recent_inq'),\n",
       " (0.01535159793263124, 'mo_sin_old_il_acct'),\n",
       " (0.015076531469989137, 'tot_hi_cred_lim'),\n",
       " (0.01479078324192959, 'out_prncp_inv'),\n",
       " (0.014299962106055752, 'total_rev_hi_lim'),\n",
       " (0.013805071352902964, 'total_bal_ex_mort'),\n",
       " (0.013788852880833782, 'bc_open_to_buy'),\n",
       " (0.013694827710895804, 'il_util'),\n",
       " (0.013675036939026722, 'total_rec_late_fee'),\n",
       " (0.013662849473306227, 'mths_since_rcnt_il'),\n",
       " (0.01359684011672968, 'out_prncp'),\n",
       " (0.013536522783790852, 'avg_cur_bal'),\n",
       " (0.012918998351896792, 'total_bal_il'),\n",
       " (0.012828721841011298, 'total_il_high_credit_limit'),\n",
       " (0.012790713388162475, 'tot_cur_bal'),\n",
       " (0.012237889772335342, 'all_util'),\n",
       " (0.011986850131119357, 'mths_since_recent_bc'),\n",
       " (0.01196749613728788, 'mo_sin_rcnt_rev_tl_op'),\n",
       " (0.011712123456761819, 'total_acc'),\n",
       " (0.011645889093426943, 'num_rev_accts'),\n",
       " (0.011020504853988053, 'num_il_tl'),\n",
       " (0.010985102356905111, 'mo_sin_rcnt_tl'),\n",
       " (0.010663570291736965, 'inq_last_6mths'),\n",
       " (0.01033024835607276, 'num_sats'),\n",
       " (0.010280843830367706, 'loan_amnt'),\n",
       " (0.009937563095090928, 'num_actv_rev_tl'),\n",
       " (0.009475712099656738, 'inq_last_12m'),\n",
       " (0.009159263433664945, 'num_bc_tl'),\n",
       " (0.009121627668794239, 'open_acc'),\n",
       " (0.00889404424205052, 'pct_tl_nvr_dlq'),\n",
       " (0.008884042090506397, 'acc_open_past_24mths'),\n",
       " (0.008825815951828526, 'num_op_rev_tl'),\n",
       " (0.008820763946307299, 'num_rev_tl_bal_gt_0'),\n",
       " (0.008374053718635846, 'inq_fi'),\n",
       " (0.007939198123854196, 'num_tl_op_past_12m'),\n",
       " (0.007847802020248065, 'open_il_24m'),\n",
       " (0.007720602429912801, 'num_actv_bc_tl'),\n",
       " (0.007605829067448131, 'total_cu_tl'),\n",
       " (0.007026832852045829, 'open_act_il'),\n",
       " (0.0070113306340224895, 'num_bc_sats'),\n",
       " (0.0067256412468127144, 'percent_bc_gt_75'),\n",
       " (0.006263202079271381, 'open_rv_24m'),\n",
       " (0.005985317143359875, 'mort_acc'),\n",
       " (0.005685853909821536, 'open_acc_6m'),\n",
       " (0.004487307574210897, 'open_rv_12m'),\n",
       " (0.004454575904921839, 'delinq_2yrs'),\n",
       " (0.0038262233536147357, 'open_il_12m'),\n",
       " (0.003627447399410396, 'num_accts_ever_120_pd'),\n",
       " (0.0031503342202459017, 'tot_coll_amt'),\n",
       " (0.0026634773554846786, 'verification_status_Verified'),\n",
       " (0.002277065646176508, 'verification_status_Source Verified'),\n",
       " (0.002037734347180339, 'verification_status_Not Verified'),\n",
       " (0.001853095335466199, 'home_ownership_OWN'),\n",
       " (0.0017585368232040028, 'home_ownership_RENT'),\n",
       " (0.0016525390694299511, 'application_type_Joint App'),\n",
       " (0.001609316210657927, 'home_ownership_MORTGAGE'),\n",
       " (0.001460431447665649, 'pub_rec'),\n",
       " (0.0014131345162520887, 'pub_rec_bankruptcies'),\n",
       " (0.0012518577161543846, 'application_type_Individual'),\n",
       " (0.001205458658259741, 'initial_list_status_w'),\n",
       " (0.0009681669457821465, 'initial_list_status_f'),\n",
       " (0.000729937473652368, 'num_tl_90g_dpd_24m'),\n",
       " (0.0005153506878286657, 'collections_12_mths_ex_med'),\n",
       " (0.00013283217381175938, 'home_ownership_ANY'),\n",
       " (0.00013018598549741485, 'chargeoff_within_12_mths'),\n",
       " (0.0, 'tax_liens'),\n",
       " (0.0, 'recoveries'),\n",
       " (0.0, 'pymnt_plan_n'),\n",
       " (0.0, 'policy_code'),\n",
       " (0.0, 'num_tl_30dpd'),\n",
       " (0.0, 'num_tl_120dpd_2m'),\n",
       " (0.0, 'hardship_flag_N'),\n",
       " (0.0, 'delinq_amnt'),\n",
       " (0.0, 'debt_settlement_flag_N'),\n",
       " (0.0, 'collection_recovery_fee'),\n",
       " (0.0, 'acc_now_delinq')]"
      ]
     },
     "execution_count": 119,
     "metadata": {},
     "output_type": "execute_result"
    }
   ],
   "source": [
    "sorted(zip(rfb_model.feature_importances_, X.columns), reverse=True)"
   ]
  },
  {
   "cell_type": "code",
   "execution_count": 134,
   "metadata": {},
   "outputs": [
    {
     "data": {
      "text/plain": [
       "<AxesSubplot:title={'center':'Features Importances'}, ylabel='1'>"
      ]
     },
     "execution_count": 134,
     "metadata": {},
     "output_type": "execute_result"
    },
    {
     "data": {
      "image/png": "[encoded data removed]",
      "text/plain": [
       "<Figure size 432x288 with 1 Axes>"
      ]
     },
     "metadata": {
      "needs_background": "light"
     },
     "output_type": "display_data"
    }
   ],
   "source": [
    " # Visualize the features by importance\n",
    "importances_df = pd.DataFrame(sorted(zip(rfb_model.feature_importances_, X.columns), reverse=True))\n",
    "importances_df.set_index(importances_df[1], inplace=True)\n",
    "importances_df.drop(columns=1, inplace=True)\n",
    "importances_df.rename(columns={0: 'Feature Importances'}, inplace=True)\n",
    "importances_sorted = importances_df.sort_values(by='Feature Importances')\n",
    "importances_sorted.plot(kind='barh', color='lightgreen', title= 'Features Importances', legend=False)\n"
   ]
  },
  {
   "cell_type": "markdown",
   "metadata": {},
   "source": [
    "### Final Questions\n",
    "\n",
    "1. Which model had the best balanced accuracy score?\n",
    "\n",
    "    The balanced Random Forest Classifier produces a higher accuracy score. \n",
    "\n",
    "2. Which model had the best recall score?\n",
    "\n",
    "     The balanced Random Forest Classifier produces a higher recall score.\n",
    "\n",
    "3. Which model had the best geometric mean score?\n",
    "\n",
    "    Both approaches produced the same geometric mean score. \n",
    "\n",
    "4. What are the top three features?\n",
    "\n",
    "    For the balanced Random Forest classifier the top three features are: Total Received Principal --'total_rec_prncp', Last Payment Amount -- 'last_pymnt_amnt', and Total payment invoiced -- 'total_pymnt_inv'.\n",
    "    For the Ensempled Learners, the top three features are the same: Total Received Principal --'total_rec_prncp', Last Payment Amount -- 'last_pymnt_amnt', and Total payment invoiced -- 'total_pymnt_inv'.\n",
    "    \n",
    "    This  shows that a borrowers' risk is highly dependent on whether they made the last payment, based on this data set. "
   ]
  },
  {
   "cell_type": "code",
   "execution_count": null,
   "metadata": {},
   "outputs": [],
   "source": []
  }
 ],
 "metadata": {
  "kernelspec": {
   "display_name": "Python 3 (ipykernel)",
   "language": "python",
   "name": "python3"
  },
  "language_info": {
   "codemirror_mode": {
    "name": "ipython",
    "version": 3
   },
   "file_extension": ".py",
   "mimetype": "text/x-python",
   "name": "python",
   "nbconvert_exporter": "python",
   "pygments_lexer": "ipython3",
   "version": "3.9.6"
  }
 },
 "nbformat": 4,
 "nbformat_minor": 4
}
